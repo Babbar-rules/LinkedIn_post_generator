{
 "cells": [
  {
   "cell_type": "markdown",
   "metadata": {
    "id": "XfngKJqQyoIA"
   },
   "source": [
    "# Code for training a pretrained language model 'distilgpt2' to write linkedIn posts. The training is limited to a few keywords and pattern for this project."
   ]
  },
  {
   "cell_type": "markdown",
   "metadata": {
    "id": "accquzuey7YQ"
   },
   "source": [
    "## Importing the dataset and performing EDA."
   ]
  },
  {
   "cell_type": "markdown",
   "metadata": {
    "id": "u9VpDK4R1kWf"
   },
   "source": [
    "## For this project a custom dataset has been used which is a combination of two datasets from huggingface"
   ]
  },
  {
   "cell_type": "code",
   "execution_count": 1,
   "metadata": {
    "id": "ikaO7mgP4gFJ"
   },
   "outputs": [],
   "source": [
    "import pandas as pd\n"
   ]
  },
  {
   "cell_type": "code",
   "execution_count": 2,
   "metadata": {
    "id": "xoHMsGGH4uYM"
   },
   "outputs": [],
   "source": [
    "df= pd.read_csv(\"/content/final.csv\")"
   ]
  },
  {
   "cell_type": "code",
   "execution_count": 3,
   "metadata": {
    "colab": {
     "base_uri": "https://localhost:8080/",
     "height": 206
    },
    "id": "GkBvIrI04-Xj",
    "outputId": "849aa17d-292c-4914-ebd2-699951296eb5"
   },
   "outputs": [
    {
     "data": {
      "application/vnd.google.colaboratory.intrinsic+json": {
       "summary": "{\n  \"name\": \"df\",\n  \"rows\": 3007,\n  \"fields\": [\n    {\n      \"column\": \"Unnamed: 0\",\n      \"properties\": {\n        \"dtype\": \"number\",\n        \"std\": 780,\n        \"min\": 0,\n        \"max\": 2559,\n        \"num_unique_values\": 2560,\n        \"samples\": [\n          2156,\n          1737,\n          1173\n        ],\n        \"semantic_type\": \"\",\n        \"description\": \"\"\n      }\n    },\n    {\n      \"column\": \"input\",\n      \"properties\": {\n        \"dtype\": \"string\",\n        \"num_unique_values\": 2840,\n        \"samples\": [\n          \"Write a LinkedIn post discussing your mixed feelings about being called the \\\"Godmother of AI\\\" with a humorous tone. Mention a recent CBS This Morning story by Jo Ling Kent and Kerry Breen, highlighting its emphasis on the importance of people maintaining agency as AI technology advances.\",\n          \"Develop a Proud LinkedIn post about Graph Technology with Long format\",\n          \"Draft a Inspirational/Motivational LinkedIn update about Artificial Intelligence and Education with long content\"\n        ],\n        \"semantic_type\": \"\",\n        \"description\": \"\"\n      }\n    },\n    {\n      \"column\": \"output\",\n      \"properties\": {\n        \"dtype\": \"string\",\n        \"num_unique_values\": 2998,\n        \"samples\": [\n          \"I am pleased to share that I have successfully completed Task 3 \\u2013 Business Card Design as a Graphic Design Intern at Oasis Infobyte, capturing the entire design process in this video. This experience has greatly enhanced my practical skills and broadened my understanding of professional design best practices. I am grateful for the opportunity to apply theoretical knowledge in a hands-on setting, continually refining my expertise through real-world applications.\\n\\n#BusinessCardDesign #GraphicDesign #DesignInternship #OasisInfobyte #CreativeProcess #ProfessionalDesign #InternshipExperience #LearningByDoing\",\n          \"I am delighted to have joined the Internet of Things (IoT) program at CSED Club, a cutting-edge initiative that has opened doors to new insights and perspectives. The recent session was an unparalleled opportunity for me to explore IoT's vast capabilities and practical applications, thereby fostering a profound appreciation for the transformative power of connected devices in our world.\\n\\nThis experience not only enhances my technical proficiency but also fuels my passion for innovation, encouraging me to investigate the frontiers of technological advancement. I am grateful for this chance to engage with the latest advancements in smart solutions and contribute meaningfully to their development.\\n\\nAs I embark on my next phase of learning, I eagerly anticipate engaging in hands-on projects that will allow me to solidify my expertise and stay abreast of the rapidly evolving field.\",\n          \"Excited to announce the founding and launch of MedARC! MedARC is a novel, open, and collaborative research organization for medical AI research.  \\n\\nThis is what I have been working on for the last several months at Stability AI.\\n\\nWe are focused on research and developing large-scale AI models (like ChatGPT, Stable Diffusion, CLIP, etc.) specifically for medicine. Additionally, our community will enable us to build interdisciplinary and diverse teams to address a variety of clinical needs with AI/ML solutions.\\n\\nI am glad to be the founding CEO leading this effort, and teaming up with Jeremy Howard, who serves as our President. I am grateful to Stability AI for their support in this venture.\\n\\nRead our LinkedIn announcement post for more information: https://lnkd.in/gzvMwN65 Very excited about this new research group I'm involved in --  anyone interested in medical AI research please reach out!\"\n        ],\n        \"semantic_type\": \"\",\n        \"description\": \"\"\n      }\n    }\n  ]\n}",
       "type": "dataframe",
       "variable_name": "df"
      },
      "text/html": [
       "\n",
       "  <div id=\"df-b0465a25-eb56-4f3c-93f6-be58cacc4a51\" class=\"colab-df-container\">\n",
       "    <div>\n",
       "<style scoped>\n",
       "    .dataframe tbody tr th:only-of-type {\n",
       "        vertical-align: middle;\n",
       "    }\n",
       "\n",
       "    .dataframe tbody tr th {\n",
       "        vertical-align: top;\n",
       "    }\n",
       "\n",
       "    .dataframe thead th {\n",
       "        text-align: right;\n",
       "    }\n",
       "</style>\n",
       "<table border=\"1\" class=\"dataframe\">\n",
       "  <thead>\n",
       "    <tr style=\"text-align: right;\">\n",
       "      <th></th>\n",
       "      <th>Unnamed: 0</th>\n",
       "      <th>input</th>\n",
       "      <th>output</th>\n",
       "    </tr>\n",
       "  </thead>\n",
       "  <tbody>\n",
       "    <tr>\n",
       "      <th>0</th>\n",
       "      <td>0</td>\n",
       "      <td>Generate a LinkedIn post announcing the releas...</td>\n",
       "      <td>We just released a new climate emulator to exp...</td>\n",
       "    </tr>\n",
       "    <tr>\n",
       "      <th>1</th>\n",
       "      <td>1</td>\n",
       "      <td>Compose a LinkedIn post announcing the launch ...</td>\n",
       "      <td>Today we launched the Llama 3 Tool Use 8B and ...</td>\n",
       "    </tr>\n",
       "    <tr>\n",
       "      <th>2</th>\n",
       "      <td>2</td>\n",
       "      <td>Generate a LinkedIn post announcing that Daphn...</td>\n",
       "      <td>10/19 Speaker of #Pezcoller23 Symposium - New ...</td>\n",
       "    </tr>\n",
       "    <tr>\n",
       "      <th>3</th>\n",
       "      <td>3</td>\n",
       "      <td>Please generate a LinkedIn post with the follo...</td>\n",
       "      <td>You won't want to miss this one.\\n\\nOpenAI pul...</td>\n",
       "    </tr>\n",
       "    <tr>\n",
       "      <th>4</th>\n",
       "      <td>4</td>\n",
       "      <td>Generate a LinkedIn post expressing your enjoy...</td>\n",
       "      <td>I've really enjoyed using crewAI tools to buil...</td>\n",
       "    </tr>\n",
       "  </tbody>\n",
       "</table>\n",
       "</div>\n",
       "    <div class=\"colab-df-buttons\">\n",
       "\n",
       "  <div class=\"colab-df-container\">\n",
       "    <button class=\"colab-df-convert\" onclick=\"convertToInteractive('df-b0465a25-eb56-4f3c-93f6-be58cacc4a51')\"\n",
       "            title=\"Convert this dataframe to an interactive table.\"\n",
       "            style=\"display:none;\">\n",
       "\n",
       "  <svg xmlns=\"http://www.w3.org/2000/svg\" height=\"24px\" viewBox=\"0 -960 960 960\">\n",
       "    <path d=\"M120-120v-720h720v720H120Zm60-500h600v-160H180v160Zm220 220h160v-160H400v160Zm0 220h160v-160H400v160ZM180-400h160v-160H180v160Zm440 0h160v-160H620v160ZM180-180h160v-160H180v160Zm440 0h160v-160H620v160Z\"/>\n",
       "  </svg>\n",
       "    </button>\n",
       "\n",
       "  <style>\n",
       "    .colab-df-container {\n",
       "      display:flex;\n",
       "      gap: 12px;\n",
       "    }\n",
       "\n",
       "    .colab-df-convert {\n",
       "      background-color: #E8F0FE;\n",
       "      border: none;\n",
       "      border-radius: 50%;\n",
       "      cursor: pointer;\n",
       "      display: none;\n",
       "      fill: #1967D2;\n",
       "      height: 32px;\n",
       "      padding: 0 0 0 0;\n",
       "      width: 32px;\n",
       "    }\n",
       "\n",
       "    .colab-df-convert:hover {\n",
       "      background-color: #E2EBFA;\n",
       "      box-shadow: 0px 1px 2px rgba(60, 64, 67, 0.3), 0px 1px 3px 1px rgba(60, 64, 67, 0.15);\n",
       "      fill: #174EA6;\n",
       "    }\n",
       "\n",
       "    .colab-df-buttons div {\n",
       "      margin-bottom: 4px;\n",
       "    }\n",
       "\n",
       "    [theme=dark] .colab-df-convert {\n",
       "      background-color: #3B4455;\n",
       "      fill: #D2E3FC;\n",
       "    }\n",
       "\n",
       "    [theme=dark] .colab-df-convert:hover {\n",
       "      background-color: #434B5C;\n",
       "      box-shadow: 0px 1px 3px 1px rgba(0, 0, 0, 0.15);\n",
       "      filter: drop-shadow(0px 1px 2px rgba(0, 0, 0, 0.3));\n",
       "      fill: #FFFFFF;\n",
       "    }\n",
       "  </style>\n",
       "\n",
       "    <script>\n",
       "      const buttonEl =\n",
       "        document.querySelector('#df-b0465a25-eb56-4f3c-93f6-be58cacc4a51 button.colab-df-convert');\n",
       "      buttonEl.style.display =\n",
       "        google.colab.kernel.accessAllowed ? 'block' : 'none';\n",
       "\n",
       "      async function convertToInteractive(key) {\n",
       "        const element = document.querySelector('#df-b0465a25-eb56-4f3c-93f6-be58cacc4a51');\n",
       "        const dataTable =\n",
       "          await google.colab.kernel.invokeFunction('convertToInteractive',\n",
       "                                                    [key], {});\n",
       "        if (!dataTable) return;\n",
       "\n",
       "        const docLinkHtml = 'Like what you see? Visit the ' +\n",
       "          '<a target=\"_blank\" href=https://colab.research.google.com/notebooks/data_table.ipynb>data table notebook</a>'\n",
       "          + ' to learn more about interactive tables.';\n",
       "        element.innerHTML = '';\n",
       "        dataTable['output_type'] = 'display_data';\n",
       "        await google.colab.output.renderOutput(dataTable, element);\n",
       "        const docLink = document.createElement('div');\n",
       "        docLink.innerHTML = docLinkHtml;\n",
       "        element.appendChild(docLink);\n",
       "      }\n",
       "    </script>\n",
       "  </div>\n",
       "\n",
       "\n",
       "    <div id=\"df-5991870c-0012-47bb-acf8-1d64ebb0fb54\">\n",
       "      <button class=\"colab-df-quickchart\" onclick=\"quickchart('df-5991870c-0012-47bb-acf8-1d64ebb0fb54')\"\n",
       "                title=\"Suggest charts\"\n",
       "                style=\"display:none;\">\n",
       "\n",
       "<svg xmlns=\"http://www.w3.org/2000/svg\" height=\"24px\"viewBox=\"0 0 24 24\"\n",
       "     width=\"24px\">\n",
       "    <g>\n",
       "        <path d=\"M19 3H5c-1.1 0-2 .9-2 2v14c0 1.1.9 2 2 2h14c1.1 0 2-.9 2-2V5c0-1.1-.9-2-2-2zM9 17H7v-7h2v7zm4 0h-2V7h2v10zm4 0h-2v-4h2v4z\"/>\n",
       "    </g>\n",
       "</svg>\n",
       "      </button>\n",
       "\n",
       "<style>\n",
       "  .colab-df-quickchart {\n",
       "      --bg-color: #E8F0FE;\n",
       "      --fill-color: #1967D2;\n",
       "      --hover-bg-color: #E2EBFA;\n",
       "      --hover-fill-color: #174EA6;\n",
       "      --disabled-fill-color: #AAA;\n",
       "      --disabled-bg-color: #DDD;\n",
       "  }\n",
       "\n",
       "  [theme=dark] .colab-df-quickchart {\n",
       "      --bg-color: #3B4455;\n",
       "      --fill-color: #D2E3FC;\n",
       "      --hover-bg-color: #434B5C;\n",
       "      --hover-fill-color: #FFFFFF;\n",
       "      --disabled-bg-color: #3B4455;\n",
       "      --disabled-fill-color: #666;\n",
       "  }\n",
       "\n",
       "  .colab-df-quickchart {\n",
       "    background-color: var(--bg-color);\n",
       "    border: none;\n",
       "    border-radius: 50%;\n",
       "    cursor: pointer;\n",
       "    display: none;\n",
       "    fill: var(--fill-color);\n",
       "    height: 32px;\n",
       "    padding: 0;\n",
       "    width: 32px;\n",
       "  }\n",
       "\n",
       "  .colab-df-quickchart:hover {\n",
       "    background-color: var(--hover-bg-color);\n",
       "    box-shadow: 0 1px 2px rgba(60, 64, 67, 0.3), 0 1px 3px 1px rgba(60, 64, 67, 0.15);\n",
       "    fill: var(--button-hover-fill-color);\n",
       "  }\n",
       "\n",
       "  .colab-df-quickchart-complete:disabled,\n",
       "  .colab-df-quickchart-complete:disabled:hover {\n",
       "    background-color: var(--disabled-bg-color);\n",
       "    fill: var(--disabled-fill-color);\n",
       "    box-shadow: none;\n",
       "  }\n",
       "\n",
       "  .colab-df-spinner {\n",
       "    border: 2px solid var(--fill-color);\n",
       "    border-color: transparent;\n",
       "    border-bottom-color: var(--fill-color);\n",
       "    animation:\n",
       "      spin 1s steps(1) infinite;\n",
       "  }\n",
       "\n",
       "  @keyframes spin {\n",
       "    0% {\n",
       "      border-color: transparent;\n",
       "      border-bottom-color: var(--fill-color);\n",
       "      border-left-color: var(--fill-color);\n",
       "    }\n",
       "    20% {\n",
       "      border-color: transparent;\n",
       "      border-left-color: var(--fill-color);\n",
       "      border-top-color: var(--fill-color);\n",
       "    }\n",
       "    30% {\n",
       "      border-color: transparent;\n",
       "      border-left-color: var(--fill-color);\n",
       "      border-top-color: var(--fill-color);\n",
       "      border-right-color: var(--fill-color);\n",
       "    }\n",
       "    40% {\n",
       "      border-color: transparent;\n",
       "      border-right-color: var(--fill-color);\n",
       "      border-top-color: var(--fill-color);\n",
       "    }\n",
       "    60% {\n",
       "      border-color: transparent;\n",
       "      border-right-color: var(--fill-color);\n",
       "    }\n",
       "    80% {\n",
       "      border-color: transparent;\n",
       "      border-right-color: var(--fill-color);\n",
       "      border-bottom-color: var(--fill-color);\n",
       "    }\n",
       "    90% {\n",
       "      border-color: transparent;\n",
       "      border-bottom-color: var(--fill-color);\n",
       "    }\n",
       "  }\n",
       "</style>\n",
       "\n",
       "      <script>\n",
       "        async function quickchart(key) {\n",
       "          const quickchartButtonEl =\n",
       "            document.querySelector('#' + key + ' button');\n",
       "          quickchartButtonEl.disabled = true;  // To prevent multiple clicks.\n",
       "          quickchartButtonEl.classList.add('colab-df-spinner');\n",
       "          try {\n",
       "            const charts = await google.colab.kernel.invokeFunction(\n",
       "                'suggestCharts', [key], {});\n",
       "          } catch (error) {\n",
       "            console.error('Error during call to suggestCharts:', error);\n",
       "          }\n",
       "          quickchartButtonEl.classList.remove('colab-df-spinner');\n",
       "          quickchartButtonEl.classList.add('colab-df-quickchart-complete');\n",
       "        }\n",
       "        (() => {\n",
       "          let quickchartButtonEl =\n",
       "            document.querySelector('#df-5991870c-0012-47bb-acf8-1d64ebb0fb54 button');\n",
       "          quickchartButtonEl.style.display =\n",
       "            google.colab.kernel.accessAllowed ? 'block' : 'none';\n",
       "        })();\n",
       "      </script>\n",
       "    </div>\n",
       "\n",
       "    </div>\n",
       "  </div>\n"
      ],
      "text/plain": [
       "   Unnamed: 0                                              input  \\\n",
       "0           0  Generate a LinkedIn post announcing the releas...   \n",
       "1           1  Compose a LinkedIn post announcing the launch ...   \n",
       "2           2  Generate a LinkedIn post announcing that Daphn...   \n",
       "3           3  Please generate a LinkedIn post with the follo...   \n",
       "4           4  Generate a LinkedIn post expressing your enjoy...   \n",
       "\n",
       "                                              output  \n",
       "0  We just released a new climate emulator to exp...  \n",
       "1  Today we launched the Llama 3 Tool Use 8B and ...  \n",
       "2  10/19 Speaker of #Pezcoller23 Symposium - New ...  \n",
       "3  You won't want to miss this one.\\n\\nOpenAI pul...  \n",
       "4  I've really enjoyed using crewAI tools to buil...  "
      ]
     },
     "execution_count": 3,
     "metadata": {},
     "output_type": "execute_result"
    }
   ],
   "source": [
    "df.head()"
   ]
  },
  {
   "cell_type": "code",
   "execution_count": 4,
   "metadata": {
    "colab": {
     "base_uri": "https://localhost:8080/"
    },
    "id": "8MXTkd184_Lj",
    "outputId": "e27459d5-cf68-41bf-e28b-dca79f38dbc5"
   },
   "outputs": [
    {
     "data": {
      "text/plain": [
       "(3007, 3)"
      ]
     },
     "execution_count": 4,
     "metadata": {},
     "output_type": "execute_result"
    }
   ],
   "source": [
    "df.shape"
   ]
  },
  {
   "cell_type": "code",
   "execution_count": 5,
   "metadata": {
    "id": "FSCqfhZbVYT5"
   },
   "outputs": [],
   "source": [
    "df= df[['input','output']]"
   ]
  },
  {
   "cell_type": "code",
   "execution_count": 6,
   "metadata": {
    "colab": {
     "base_uri": "https://localhost:8080/",
     "height": 140
    },
    "id": "sU0GsUt_UqgJ",
    "outputId": "d8de1efa-1178-452c-d36d-20d7d0d2d0d2"
   },
   "outputs": [
    {
     "data": {
      "application/vnd.google.colaboratory.intrinsic+json": {
       "type": "string"
      },
      "text/plain": [
       "\"It’s go time! Today marks the start of our second annual in vivo Week at insitro! This week of learning, sharing and innovation is designed by and for insitrocytes, with a jam-packed schedule focused on exchanging ideas and building the future together. We kicked off #inVivoWeek2023 with an inspiring fireside chat with Dr. Sue Desmond-Hellmann, a trailblazing oncologist recognized for her leadership throughout the healthcare ecosystem, including at Genentech, UCSF and the Bill & Melinda Gates Foundation. The thought-provoking discussion between Sue and Daphne Koller, our Founder and CEO, explored opportunities in healthcare innovation, the future of drug development and the importance of following professional passions. We're grateful for Sue's valuable insights! \\n\\nThe energy is palpable as we forge ahead during this pivotal week, collaborating to advance our mission of bringing better drugs faster to the patients who can benefit most, through machine learning and data at scale. #teamwork #ML #drugdiscovery I have long admired Sue from afar, and it was such an honor to have the privilege of interviewing her as the opening plenary at our invivo week at insitro. There was so much in her reflections that deeply resonated: humans as the model for humans, the key role of the patient voice, the importance of #precisionmedicine in ensuring value to patients, the ways in which the AIDS/HIV epidemic profoundly changed drug discovery, and (on a different note) the importance of a culture in which people strive to see the best in their colleagues. Hearing from this wise and inspiring leader really drove home how lucky we were to have the opportunity to bring the power of ML towards the goal of bringing better medicines, faster to patients who can benefit the most. Thank you, Dr. Sue Desmond-Hellmann, for inspiring all of us!\""
      ]
     },
     "execution_count": 6,
     "metadata": {},
     "output_type": "execute_result"
    }
   ],
   "source": [
    "df['output'][100]"
   ]
  },
  {
   "cell_type": "code",
   "execution_count": 7,
   "metadata": {
    "colab": {
     "base_uri": "https://localhost:8080/"
    },
    "id": "hqNSQDVTW1m4",
    "outputId": "aaaec62c-d0c7-4c47-cf76-ccc94956b70a"
   },
   "outputs": [
    {
     "data": {
      "text/plain": [
       "np.int64(0)"
      ]
     },
     "execution_count": 7,
     "metadata": {},
     "output_type": "execute_result"
    }
   ],
   "source": [
    "df['output'].isna().sum()"
   ]
  },
  {
   "cell_type": "code",
   "execution_count": 8,
   "metadata": {
    "id": "q6jYxFsW5r58"
   },
   "outputs": [],
   "source": [
    "final = df.drop_duplicates()"
   ]
  },
  {
   "cell_type": "code",
   "execution_count": 9,
   "metadata": {
    "id": "vh5nIoWU6LHj"
   },
   "outputs": [],
   "source": [
    "final = final.dropna()"
   ]
  },
  {
   "cell_type": "code",
   "execution_count": 10,
   "metadata": {
    "colab": {
     "base_uri": "https://localhost:8080/"
    },
    "id": "evNT-GZ76OJS",
    "outputId": "b3ce6473-be45-40d6-8184-b4a1c3d208ad"
   },
   "outputs": [
    {
     "data": {
      "text/plain": [
       "(3007, 2)"
      ]
     },
     "execution_count": 10,
     "metadata": {},
     "output_type": "execute_result"
    }
   ],
   "source": [
    "final.shape"
   ]
  },
  {
   "cell_type": "code",
   "execution_count": 11,
   "metadata": {
    "colab": {
     "base_uri": "https://localhost:8080/",
     "height": 206
    },
    "id": "0_flkY2iFNGQ",
    "outputId": "f817ec6e-1a64-4ce4-df7c-f78386673d9c"
   },
   "outputs": [
    {
     "data": {
      "application/vnd.google.colaboratory.intrinsic+json": {
       "summary": "{\n  \"name\": \"final\",\n  \"rows\": 3007,\n  \"fields\": [\n    {\n      \"column\": \"input\",\n      \"properties\": {\n        \"dtype\": \"string\",\n        \"num_unique_values\": 2840,\n        \"samples\": [\n          \"Write a LinkedIn post discussing your mixed feelings about being called the \\\"Godmother of AI\\\" with a humorous tone. Mention a recent CBS This Morning story by Jo Ling Kent and Kerry Breen, highlighting its emphasis on the importance of people maintaining agency as AI technology advances.\",\n          \"Develop a Proud LinkedIn post about Graph Technology with Long format\",\n          \"Draft a Inspirational/Motivational LinkedIn update about Artificial Intelligence and Education with long content\"\n        ],\n        \"semantic_type\": \"\",\n        \"description\": \"\"\n      }\n    },\n    {\n      \"column\": \"output\",\n      \"properties\": {\n        \"dtype\": \"string\",\n        \"num_unique_values\": 2998,\n        \"samples\": [\n          \"I am pleased to share that I have successfully completed Task 3 \\u2013 Business Card Design as a Graphic Design Intern at Oasis Infobyte, capturing the entire design process in this video. This experience has greatly enhanced my practical skills and broadened my understanding of professional design best practices. I am grateful for the opportunity to apply theoretical knowledge in a hands-on setting, continually refining my expertise through real-world applications.\\n\\n#BusinessCardDesign #GraphicDesign #DesignInternship #OasisInfobyte #CreativeProcess #ProfessionalDesign #InternshipExperience #LearningByDoing\",\n          \"I am delighted to have joined the Internet of Things (IoT) program at CSED Club, a cutting-edge initiative that has opened doors to new insights and perspectives. The recent session was an unparalleled opportunity for me to explore IoT's vast capabilities and practical applications, thereby fostering a profound appreciation for the transformative power of connected devices in our world.\\n\\nThis experience not only enhances my technical proficiency but also fuels my passion for innovation, encouraging me to investigate the frontiers of technological advancement. I am grateful for this chance to engage with the latest advancements in smart solutions and contribute meaningfully to their development.\\n\\nAs I embark on my next phase of learning, I eagerly anticipate engaging in hands-on projects that will allow me to solidify my expertise and stay abreast of the rapidly evolving field.\",\n          \"Excited to announce the founding and launch of MedARC! MedARC is a novel, open, and collaborative research organization for medical AI research.  \\n\\nThis is what I have been working on for the last several months at Stability AI.\\n\\nWe are focused on research and developing large-scale AI models (like ChatGPT, Stable Diffusion, CLIP, etc.) specifically for medicine. Additionally, our community will enable us to build interdisciplinary and diverse teams to address a variety of clinical needs with AI/ML solutions.\\n\\nI am glad to be the founding CEO leading this effort, and teaming up with Jeremy Howard, who serves as our President. I am grateful to Stability AI for their support in this venture.\\n\\nRead our LinkedIn announcement post for more information: https://lnkd.in/gzvMwN65 Very excited about this new research group I'm involved in --  anyone interested in medical AI research please reach out!\"\n        ],\n        \"semantic_type\": \"\",\n        \"description\": \"\"\n      }\n    }\n  ]\n}",
       "type": "dataframe",
       "variable_name": "final"
      },
      "text/html": [
       "\n",
       "  <div id=\"df-b2e52d77-92af-490f-967e-4198d996b181\" class=\"colab-df-container\">\n",
       "    <div>\n",
       "<style scoped>\n",
       "    .dataframe tbody tr th:only-of-type {\n",
       "        vertical-align: middle;\n",
       "    }\n",
       "\n",
       "    .dataframe tbody tr th {\n",
       "        vertical-align: top;\n",
       "    }\n",
       "\n",
       "    .dataframe thead th {\n",
       "        text-align: right;\n",
       "    }\n",
       "</style>\n",
       "<table border=\"1\" class=\"dataframe\">\n",
       "  <thead>\n",
       "    <tr style=\"text-align: right;\">\n",
       "      <th></th>\n",
       "      <th>input</th>\n",
       "      <th>output</th>\n",
       "    </tr>\n",
       "  </thead>\n",
       "  <tbody>\n",
       "    <tr>\n",
       "      <th>0</th>\n",
       "      <td>Generate a LinkedIn post announcing the releas...</td>\n",
       "      <td>We just released a new climate emulator to exp...</td>\n",
       "    </tr>\n",
       "    <tr>\n",
       "      <th>1</th>\n",
       "      <td>Compose a LinkedIn post announcing the launch ...</td>\n",
       "      <td>Today we launched the Llama 3 Tool Use 8B and ...</td>\n",
       "    </tr>\n",
       "    <tr>\n",
       "      <th>2</th>\n",
       "      <td>Generate a LinkedIn post announcing that Daphn...</td>\n",
       "      <td>10/19 Speaker of #Pezcoller23 Symposium - New ...</td>\n",
       "    </tr>\n",
       "    <tr>\n",
       "      <th>3</th>\n",
       "      <td>Please generate a LinkedIn post with the follo...</td>\n",
       "      <td>You won't want to miss this one.\\n\\nOpenAI pul...</td>\n",
       "    </tr>\n",
       "    <tr>\n",
       "      <th>4</th>\n",
       "      <td>Generate a LinkedIn post expressing your enjoy...</td>\n",
       "      <td>I've really enjoyed using crewAI tools to buil...</td>\n",
       "    </tr>\n",
       "  </tbody>\n",
       "</table>\n",
       "</div>\n",
       "    <div class=\"colab-df-buttons\">\n",
       "\n",
       "  <div class=\"colab-df-container\">\n",
       "    <button class=\"colab-df-convert\" onclick=\"convertToInteractive('df-b2e52d77-92af-490f-967e-4198d996b181')\"\n",
       "            title=\"Convert this dataframe to an interactive table.\"\n",
       "            style=\"display:none;\">\n",
       "\n",
       "  <svg xmlns=\"http://www.w3.org/2000/svg\" height=\"24px\" viewBox=\"0 -960 960 960\">\n",
       "    <path d=\"M120-120v-720h720v720H120Zm60-500h600v-160H180v160Zm220 220h160v-160H400v160Zm0 220h160v-160H400v160ZM180-400h160v-160H180v160Zm440 0h160v-160H620v160ZM180-180h160v-160H180v160Zm440 0h160v-160H620v160Z\"/>\n",
       "  </svg>\n",
       "    </button>\n",
       "\n",
       "  <style>\n",
       "    .colab-df-container {\n",
       "      display:flex;\n",
       "      gap: 12px;\n",
       "    }\n",
       "\n",
       "    .colab-df-convert {\n",
       "      background-color: #E8F0FE;\n",
       "      border: none;\n",
       "      border-radius: 50%;\n",
       "      cursor: pointer;\n",
       "      display: none;\n",
       "      fill: #1967D2;\n",
       "      height: 32px;\n",
       "      padding: 0 0 0 0;\n",
       "      width: 32px;\n",
       "    }\n",
       "\n",
       "    .colab-df-convert:hover {\n",
       "      background-color: #E2EBFA;\n",
       "      box-shadow: 0px 1px 2px rgba(60, 64, 67, 0.3), 0px 1px 3px 1px rgba(60, 64, 67, 0.15);\n",
       "      fill: #174EA6;\n",
       "    }\n",
       "\n",
       "    .colab-df-buttons div {\n",
       "      margin-bottom: 4px;\n",
       "    }\n",
       "\n",
       "    [theme=dark] .colab-df-convert {\n",
       "      background-color: #3B4455;\n",
       "      fill: #D2E3FC;\n",
       "    }\n",
       "\n",
       "    [theme=dark] .colab-df-convert:hover {\n",
       "      background-color: #434B5C;\n",
       "      box-shadow: 0px 1px 3px 1px rgba(0, 0, 0, 0.15);\n",
       "      filter: drop-shadow(0px 1px 2px rgba(0, 0, 0, 0.3));\n",
       "      fill: #FFFFFF;\n",
       "    }\n",
       "  </style>\n",
       "\n",
       "    <script>\n",
       "      const buttonEl =\n",
       "        document.querySelector('#df-b2e52d77-92af-490f-967e-4198d996b181 button.colab-df-convert');\n",
       "      buttonEl.style.display =\n",
       "        google.colab.kernel.accessAllowed ? 'block' : 'none';\n",
       "\n",
       "      async function convertToInteractive(key) {\n",
       "        const element = document.querySelector('#df-b2e52d77-92af-490f-967e-4198d996b181');\n",
       "        const dataTable =\n",
       "          await google.colab.kernel.invokeFunction('convertToInteractive',\n",
       "                                                    [key], {});\n",
       "        if (!dataTable) return;\n",
       "\n",
       "        const docLinkHtml = 'Like what you see? Visit the ' +\n",
       "          '<a target=\"_blank\" href=https://colab.research.google.com/notebooks/data_table.ipynb>data table notebook</a>'\n",
       "          + ' to learn more about interactive tables.';\n",
       "        element.innerHTML = '';\n",
       "        dataTable['output_type'] = 'display_data';\n",
       "        await google.colab.output.renderOutput(dataTable, element);\n",
       "        const docLink = document.createElement('div');\n",
       "        docLink.innerHTML = docLinkHtml;\n",
       "        element.appendChild(docLink);\n",
       "      }\n",
       "    </script>\n",
       "  </div>\n",
       "\n",
       "\n",
       "    <div id=\"df-7737c450-6fc7-4d57-aef3-63de9164c329\">\n",
       "      <button class=\"colab-df-quickchart\" onclick=\"quickchart('df-7737c450-6fc7-4d57-aef3-63de9164c329')\"\n",
       "                title=\"Suggest charts\"\n",
       "                style=\"display:none;\">\n",
       "\n",
       "<svg xmlns=\"http://www.w3.org/2000/svg\" height=\"24px\"viewBox=\"0 0 24 24\"\n",
       "     width=\"24px\">\n",
       "    <g>\n",
       "        <path d=\"M19 3H5c-1.1 0-2 .9-2 2v14c0 1.1.9 2 2 2h14c1.1 0 2-.9 2-2V5c0-1.1-.9-2-2-2zM9 17H7v-7h2v7zm4 0h-2V7h2v10zm4 0h-2v-4h2v4z\"/>\n",
       "    </g>\n",
       "</svg>\n",
       "      </button>\n",
       "\n",
       "<style>\n",
       "  .colab-df-quickchart {\n",
       "      --bg-color: #E8F0FE;\n",
       "      --fill-color: #1967D2;\n",
       "      --hover-bg-color: #E2EBFA;\n",
       "      --hover-fill-color: #174EA6;\n",
       "      --disabled-fill-color: #AAA;\n",
       "      --disabled-bg-color: #DDD;\n",
       "  }\n",
       "\n",
       "  [theme=dark] .colab-df-quickchart {\n",
       "      --bg-color: #3B4455;\n",
       "      --fill-color: #D2E3FC;\n",
       "      --hover-bg-color: #434B5C;\n",
       "      --hover-fill-color: #FFFFFF;\n",
       "      --disabled-bg-color: #3B4455;\n",
       "      --disabled-fill-color: #666;\n",
       "  }\n",
       "\n",
       "  .colab-df-quickchart {\n",
       "    background-color: var(--bg-color);\n",
       "    border: none;\n",
       "    border-radius: 50%;\n",
       "    cursor: pointer;\n",
       "    display: none;\n",
       "    fill: var(--fill-color);\n",
       "    height: 32px;\n",
       "    padding: 0;\n",
       "    width: 32px;\n",
       "  }\n",
       "\n",
       "  .colab-df-quickchart:hover {\n",
       "    background-color: var(--hover-bg-color);\n",
       "    box-shadow: 0 1px 2px rgba(60, 64, 67, 0.3), 0 1px 3px 1px rgba(60, 64, 67, 0.15);\n",
       "    fill: var(--button-hover-fill-color);\n",
       "  }\n",
       "\n",
       "  .colab-df-quickchart-complete:disabled,\n",
       "  .colab-df-quickchart-complete:disabled:hover {\n",
       "    background-color: var(--disabled-bg-color);\n",
       "    fill: var(--disabled-fill-color);\n",
       "    box-shadow: none;\n",
       "  }\n",
       "\n",
       "  .colab-df-spinner {\n",
       "    border: 2px solid var(--fill-color);\n",
       "    border-color: transparent;\n",
       "    border-bottom-color: var(--fill-color);\n",
       "    animation:\n",
       "      spin 1s steps(1) infinite;\n",
       "  }\n",
       "\n",
       "  @keyframes spin {\n",
       "    0% {\n",
       "      border-color: transparent;\n",
       "      border-bottom-color: var(--fill-color);\n",
       "      border-left-color: var(--fill-color);\n",
       "    }\n",
       "    20% {\n",
       "      border-color: transparent;\n",
       "      border-left-color: var(--fill-color);\n",
       "      border-top-color: var(--fill-color);\n",
       "    }\n",
       "    30% {\n",
       "      border-color: transparent;\n",
       "      border-left-color: var(--fill-color);\n",
       "      border-top-color: var(--fill-color);\n",
       "      border-right-color: var(--fill-color);\n",
       "    }\n",
       "    40% {\n",
       "      border-color: transparent;\n",
       "      border-right-color: var(--fill-color);\n",
       "      border-top-color: var(--fill-color);\n",
       "    }\n",
       "    60% {\n",
       "      border-color: transparent;\n",
       "      border-right-color: var(--fill-color);\n",
       "    }\n",
       "    80% {\n",
       "      border-color: transparent;\n",
       "      border-right-color: var(--fill-color);\n",
       "      border-bottom-color: var(--fill-color);\n",
       "    }\n",
       "    90% {\n",
       "      border-color: transparent;\n",
       "      border-bottom-color: var(--fill-color);\n",
       "    }\n",
       "  }\n",
       "</style>\n",
       "\n",
       "      <script>\n",
       "        async function quickchart(key) {\n",
       "          const quickchartButtonEl =\n",
       "            document.querySelector('#' + key + ' button');\n",
       "          quickchartButtonEl.disabled = true;  // To prevent multiple clicks.\n",
       "          quickchartButtonEl.classList.add('colab-df-spinner');\n",
       "          try {\n",
       "            const charts = await google.colab.kernel.invokeFunction(\n",
       "                'suggestCharts', [key], {});\n",
       "          } catch (error) {\n",
       "            console.error('Error during call to suggestCharts:', error);\n",
       "          }\n",
       "          quickchartButtonEl.classList.remove('colab-df-spinner');\n",
       "          quickchartButtonEl.classList.add('colab-df-quickchart-complete');\n",
       "        }\n",
       "        (() => {\n",
       "          let quickchartButtonEl =\n",
       "            document.querySelector('#df-7737c450-6fc7-4d57-aef3-63de9164c329 button');\n",
       "          quickchartButtonEl.style.display =\n",
       "            google.colab.kernel.accessAllowed ? 'block' : 'none';\n",
       "        })();\n",
       "      </script>\n",
       "    </div>\n",
       "\n",
       "    </div>\n",
       "  </div>\n"
      ],
      "text/plain": [
       "                                               input  \\\n",
       "0  Generate a LinkedIn post announcing the releas...   \n",
       "1  Compose a LinkedIn post announcing the launch ...   \n",
       "2  Generate a LinkedIn post announcing that Daphn...   \n",
       "3  Please generate a LinkedIn post with the follo...   \n",
       "4  Generate a LinkedIn post expressing your enjoy...   \n",
       "\n",
       "                                              output  \n",
       "0  We just released a new climate emulator to exp...  \n",
       "1  Today we launched the Llama 3 Tool Use 8B and ...  \n",
       "2  10/19 Speaker of #Pezcoller23 Symposium - New ...  \n",
       "3  You won't want to miss this one.\\n\\nOpenAI pul...  \n",
       "4  I've really enjoyed using crewAI tools to buil...  "
      ]
     },
     "execution_count": 11,
     "metadata": {},
     "output_type": "execute_result"
    }
   ],
   "source": [
    "final.head()"
   ]
  },
  {
   "cell_type": "markdown",
   "metadata": {
    "id": "1KV_FotHzIRH"
   },
   "source": [
    "# As pretrained model is being used from huggingface hence importing transformers library."
   ]
  },
  {
   "cell_type": "code",
   "execution_count": 12,
   "metadata": {
    "id": "3L0jBFYuJNBZ"
   },
   "outputs": [],
   "source": [
    "!pip install transformers --q\n"
   ]
  },
  {
   "cell_type": "code",
   "execution_count": 13,
   "metadata": {
    "id": "GaI35wpPGs1B"
   },
   "outputs": [],
   "source": [
    "from transformers import AutoTokenizer, AutoModelForCausalLM, TrainingArguments, Trainer, DataCollatorForLanguageModeling\n",
    "import torch"
   ]
  },
  {
   "cell_type": "code",
   "execution_count": 14,
   "metadata": {
    "colab": {
     "base_uri": "https://localhost:8080/",
     "height": 365,
     "referenced_widgets": [
      "d952f87a3aef404dbad5490e3ce37f20",
      "da409d6084be4433b013c17b93729cdb",
      "cd187402f9394f15b1570208969cc684",
      "d1787f9a77ce487c8a5cc3772c669c74",
      "01fde2a446fe4f99a952d015544aad19",
      "f146e31c78e54ca983c66d2dd9bd914e",
      "f133130ae12243aa867e25be82e332fb",
      "8995d22e8646418f96db7f08b6710969",
      "51c13de5a5844f6e87e87cb6a9df2199",
      "8b88927a90db46609d15a2cc939da4f7",
      "85caa3c6e6194bf891ff4be1d6f50118",
      "3202389c8f9241649fe3c0d3521f2101",
      "82eb47aab70d467093fc608a00f8983f",
      "e1ba417f340d4946ae988218e3ed4256",
      "f227c0041d1f4c39837b788cba57ec83",
      "0afb6f4930e4489aa272f3bfb0ad5cea",
      "b9502646e63a452795e86256149b09ef",
      "33781389cfab44dc99850bd36b03cd68",
      "b52a9e77a58a40cda0746d57fbaaee7b",
      "2649dc3c764a4914b3a511a371013028",
      "2164b2a3173b4e23bd07c6b938d39d46",
      "29a7d13143f1452fa2534b8633699bf2",
      "7ce4778b50704c59b3963bd972d7c415",
      "77342a3d266c48478be77e0a7a7ebd90",
      "a58b13dfbf844977a225be69084d844a",
      "be557cd3ee7546d0830078cff7feb2ce",
      "0a7e9ddc237e4a27afa916dbdd5bee0f",
      "31ce2551c1ce404fa59b5be10f0dcb5a",
      "0222eb67c1f4424fb637836c82ce6d0e",
      "74edd174d96248a29a0efa1000a9faca",
      "19f8541f94d04b30be63035bee2526f9",
      "87bb34f711c242b9b91a2b0c80c8f378",
      "6ab2ee7cbac44f0bbcf567307cc052bc",
      "9f5e7b6c9d1b4f27bd91b0b83e09f00f",
      "2f3bd99872f64002adffcbe39e7e0448",
      "da9e7c4f499649c89c91f68d11871a9b",
      "8ef58853a0804e02954c49452a948fd3",
      "0e8d1e1fcc2447cd86828dbe2d442615",
      "7e5491c8ec5c4a5fb5688d3401aa55eb",
      "f95f2694af5a42d1b1871356d8ab9a6b",
      "9b9531235f85413fb672591a6d0619b6",
      "c7910b38aac2427ab62330499ce74635",
      "62b34290d74541f1b5a64ed6e4273977",
      "13b009b4610542f582391f3939f5358e",
      "1e63f74df4dd485797aad219caadaa5c",
      "398f62298f82436ca1c39205275740c7",
      "c3c30273396e440db54f4c28d61ef56f",
      "8b009c23c4194319be8f23b03984b4ee",
      "bda9894df92f4838a3be39d7d5e7477a",
      "ebfdf5ba48c744d9839c126c54f24853",
      "924e5e0cff714f7a8940cb6cab214bf6",
      "166da02fc9da4586b4e5e179ac551d68",
      "5c73a01b982b4f179a5990e03cfd44f9",
      "9ee4fc4537854925ae362959afded5f5",
      "f2dd8f65be164127a8e51e3d527a5db4",
      "b2955ec72b5a4095a70c66b4acbc57b5",
      "1109e0bc7be14d939b1f3715c0bd7b4f",
      "9bf398b220ff4dd083b5961cec2851f4",
      "68740e1117f943d681abd4a97a603013",
      "711e7c06e233408f88ffa8272ffadc39",
      "aa208c806b854cf382514b2691d86524",
      "dbcd2df930744e82ae2f62d16002a7e2",
      "56932a93f059447da4b1a87be8abf6d9",
      "0ee63912ffcd4bc3872e9368a7336478",
      "45fca42190a94312b0647dec010fb913",
      "7f7b714b12ce4ac8b905c88c610cbb82",
      "f72849e2b58345c4a5ec619e67e1f90b",
      "6208d26adacf45d5b5e0244137026f7b",
      "7f4ee66ef49f4a7fa9c2e2261968cbd1",
      "361b10fc245040cc8466957a97468598",
      "1a038ff21170435885516de172b5a364",
      "9b15716db8a04d42995932048b9e0fcf",
      "1534271756f64b39afe5c591e8730218",
      "033897c1cf02418daf30cc10b78b1462",
      "873e6d979b4545219b92f28054eb8f6d",
      "4dcff9452d3b4e658896b668c53861ad",
      "055918778c93430297bfb238f691085e"
     ]
    },
    "id": "f414e642",
    "outputId": "e68a7eb8-c25b-4156-dff0-0754a853609a"
   },
   "outputs": [
    {
     "name": "stderr",
     "output_type": "stream",
     "text": [
      "/usr/local/lib/python3.11/dist-packages/huggingface_hub/utils/_auth.py:94: UserWarning: \n",
      "The secret `HF_TOKEN` does not exist in your Colab secrets.\n",
      "To authenticate with the Hugging Face Hub, create a token in your settings tab (https://huggingface.co/settings/tokens), set it as secret in your Google Colab and restart your session.\n",
      "You will be able to reuse this secret in all of your notebooks.\n",
      "Please note that authentication is recommended but still optional to access public models or datasets.\n",
      "  warnings.warn(\n"
     ]
    },
    {
     "data": {
      "application/vnd.jupyter.widget-view+json": {
       "model_id": "d952f87a3aef404dbad5490e3ce37f20",
       "version_major": 2,
       "version_minor": 0
      },
      "text/plain": [
       "tokenizer_config.json:   0%|          | 0.00/26.0 [00:00<?, ?B/s]"
      ]
     },
     "metadata": {},
     "output_type": "display_data"
    },
    {
     "data": {
      "application/vnd.jupyter.widget-view+json": {
       "model_id": "3202389c8f9241649fe3c0d3521f2101",
       "version_major": 2,
       "version_minor": 0
      },
      "text/plain": [
       "config.json:   0%|          | 0.00/762 [00:00<?, ?B/s]"
      ]
     },
     "metadata": {},
     "output_type": "display_data"
    },
    {
     "data": {
      "application/vnd.jupyter.widget-view+json": {
       "model_id": "7ce4778b50704c59b3963bd972d7c415",
       "version_major": 2,
       "version_minor": 0
      },
      "text/plain": [
       "vocab.json:   0%|          | 0.00/1.04M [00:00<?, ?B/s]"
      ]
     },
     "metadata": {},
     "output_type": "display_data"
    },
    {
     "data": {
      "application/vnd.jupyter.widget-view+json": {
       "model_id": "9f5e7b6c9d1b4f27bd91b0b83e09f00f",
       "version_major": 2,
       "version_minor": 0
      },
      "text/plain": [
       "merges.txt:   0%|          | 0.00/456k [00:00<?, ?B/s]"
      ]
     },
     "metadata": {},
     "output_type": "display_data"
    },
    {
     "data": {
      "application/vnd.jupyter.widget-view+json": {
       "model_id": "1e63f74df4dd485797aad219caadaa5c",
       "version_major": 2,
       "version_minor": 0
      },
      "text/plain": [
       "tokenizer.json:   0%|          | 0.00/1.36M [00:00<?, ?B/s]"
      ]
     },
     "metadata": {},
     "output_type": "display_data"
    },
    {
     "data": {
      "application/vnd.jupyter.widget-view+json": {
       "model_id": "b2955ec72b5a4095a70c66b4acbc57b5",
       "version_major": 2,
       "version_minor": 0
      },
      "text/plain": [
       "model.safetensors:   0%|          | 0.00/353M [00:00<?, ?B/s]"
      ]
     },
     "metadata": {},
     "output_type": "display_data"
    },
    {
     "data": {
      "application/vnd.jupyter.widget-view+json": {
       "model_id": "f72849e2b58345c4a5ec619e67e1f90b",
       "version_major": 2,
       "version_minor": 0
      },
      "text/plain": [
       "generation_config.json:   0%|          | 0.00/124 [00:00<?, ?B/s]"
      ]
     },
     "metadata": {},
     "output_type": "display_data"
    }
   ],
   "source": [
    "# Initializing the model\n",
    "model_name = \"distilgpt2\"\n",
    "tokenizer = AutoTokenizer.from_pretrained(model_name)\n",
    "model = AutoModelForCausalLM.from_pretrained(model_name)"
   ]
  },
  {
   "cell_type": "markdown",
   "metadata": {
    "id": "vJ37VR1Azpjg"
   },
   "source": [
    "## Splitting the data into train, val and test set"
   ]
  },
  {
   "cell_type": "code",
   "execution_count": 15,
   "metadata": {
    "colab": {
     "base_uri": "https://localhost:8080/"
    },
    "id": "dfb9e4f0",
    "outputId": "e418b4f4-f894-46eb-cf04-c2f945363d5c"
   },
   "outputs": [
    {
     "name": "stdout",
     "output_type": "stream",
     "text": [
      "Training data shape: (2255, 2)\n",
      "Validation data shape: (376, 2)\n",
      "Test data shape: (376, 2)\n"
     ]
    }
   ],
   "source": [
    "from sklearn.model_selection import train_test_split\n",
    "\n",
    "# Split the data into 75% training and 25% temporary (for test and validation)\n",
    "train_df, temp_df = train_test_split(final, test_size=0.25, random_state=42)\n",
    "\n",
    "# Split the temporary data into 50% validation and 50% test\n",
    "val_df, test_df = train_test_split(temp_df, test_size=0.5, random_state=42)\n",
    "\n",
    "print(f\"Training data shape: {train_df.shape}\")\n",
    "print(f\"Validation data shape: {val_df.shape}\")\n",
    "print(f\"Test data shape: {test_df.shape}\")"
   ]
  },
  {
   "cell_type": "markdown",
   "metadata": {
    "id": "z3zCzfj-zwRZ"
   },
   "source": [
    "## Tokenizing the training and validation data"
   ]
  },
  {
   "cell_type": "code",
   "execution_count": 16,
   "metadata": {
    "colab": {
     "base_uri": "https://localhost:8080/"
    },
    "id": "YcLr8teYRMgH",
    "outputId": "e3795ac9-43d4-4b93-c429-151ad7581d40"
   },
   "outputs": [
    {
     "name": "stderr",
     "output_type": "stream",
     "text": [
      "Token indices sequence length is longer than the specified maximum sequence length for this model (1078 > 1024). Running this sequence through the model will result in indexing errors\n"
     ]
    },
    {
     "name": "stdout",
     "output_type": "stream",
     "text": [
      "Number of training tokenized chunks: 3151\n",
      "Number of validation tokenized chunks: 510\n"
     ]
    }
   ],
   "source": [
    "\n",
    "train_tokenized_inputs = train_df['output'].apply(lambda x: tokenizer(x, return_attention_mask=False)['input_ids'])\n",
    "val_tokenized_inputs = val_df['output'].apply(lambda x: tokenizer(x, return_attention_mask=False)['input_ids'])\n",
    "test_tokenized_inputs = test_df['output'].apply(lambda x: tokenizer(x, return_attention_mask=False)['input_ids'])\n",
    "\n",
    "# Concatenate all tokenized sequences for each split\n",
    "train_tokenized_text = [item for sublist in train_tokenized_inputs.tolist() for item in sublist]\n",
    "val_tokenized_text = [item for sublist in val_tokenized_inputs.tolist() for item in sublist]\n",
    "test_tokenized_text = [item for sublist in test_tokenized_inputs.tolist() for item in sublist]\n",
    "\n",
    "\n",
    "block_size = 128\n",
    "\n",
    "# Divide the tokenized sequence into chunks\n",
    "def chunk_data(tokenized_list, block_size):\n",
    "    input_chunks = []\n",
    "    for i in range(0, len(tokenized_list) - block_size + 1, block_size):\n",
    "        input_chunks.append(tokenized_list[i : i + block_size])\n",
    "    return input_chunks\n",
    "\n",
    "train_tokenized_chunks = chunk_data(train_tokenized_text, block_size)\n",
    "val_tokenized_chunks = chunk_data(val_tokenized_text, block_size)\n",
    "test_tokenized_chunks = chunk_data(test_tokenized_text, block_size)\n",
    "\n",
    "print(f\"Number of training tokenized chunks: {len(train_tokenized_chunks)}\")\n",
    "print(f\"Number of validation tokenized chunks: {len(val_tokenized_chunks)}\")"
   ]
  },
  {
   "cell_type": "markdown",
   "metadata": {
    "id": "Ou4DjmUnSPb3"
   },
   "source": [
    "## Creating a dataset using pytorch"
   ]
  },
  {
   "cell_type": "code",
   "execution_count": 17,
   "metadata": {
    "colab": {
     "base_uri": "https://localhost:8080/"
    },
    "id": "uA51jL1qSM0_",
    "outputId": "f4ef9110-2dbe-42de-e115-8c34a940380c"
   },
   "outputs": [
    {
     "name": "stdout",
     "output_type": "stream",
     "text": [
      "Training dataset length: 3151\n",
      "Validation dataset length: 510\n",
      "Example data point (first training chunk): tensor([    1,    40,   716, 10607,   284,   423,  7675,  5668, 15941,   513,\n",
      "          784,  7320,  5172,  8495,    11,   257,  1994,  7515,   286,   616,\n",
      "        43029,  8495,  2445,  6720,   379,   440, 17765,  4806, 26730,   660,\n",
      "           13,   383,  3663,   284,  6121,   281,  4238,  3721,   656,   257,\n",
      "        23895,  1486,   422, 30839,   284, 11939,   468,   587, 30438,    13,\n",
      "          198,   198,   464, 19249,  2008,  3769,   257,  9815, 16700,   286,\n",
      "          262,  1486,  1429,    11, 40318,   262,  2267,    11, 23355,  1634,\n",
      "           11, 47517,    11,   290, 24415,  9539,   326,  2957,   284,   262,\n",
      "         2457,  1720,    13,   314,   716, 14066,   329,   262,  2832,    12,\n",
      "          261,  1998,  8618,   832,   428, 42329,    11,   543,   468,  9343,\n",
      "          502,   284, 35139,   616,  6276,  4678,   287, 13028,  1486,   290,\n",
      "         5963,   355,   257,  7325,  4708,    13,   198,   198,    40,  9144,\n",
      "          262, 25408,  2858,  2810,   416,   440, 17765,  4806])\n",
      "Example data point shape: torch.Size([128])\n"
     ]
    }
   ],
   "source": [
    "from torch.utils.data import Dataset\n",
    "import torch\n",
    "\n",
    "class TextDataset(Dataset):\n",
    "    def __init__(self, tokenized_chunks):\n",
    "        self.tokenized_chunks = tokenized_chunks\n",
    "\n",
    "    def __len__(self):\n",
    "        return len(self.tokenized_chunks)\n",
    "\n",
    "    def __getitem__(self, idx):\n",
    "        # Convert the list of token IDs to a PyTorch tensor\n",
    "        return torch.tensor(self.tokenized_chunks[idx])\n",
    "\n",
    "train_dataset = TextDataset(train_tokenized_chunks)\n",
    "val_dataset = TextDataset(val_tokenized_chunks)\n",
    "test_dataset = TextDataset(test_tokenized_chunks)\n",
    "\n",
    "\n",
    "print(f\"Training dataset length: {len(train_dataset)}\")\n",
    "print(f\"Validation dataset length: {len(val_dataset)}\")\n",
    "print(f\"Example data point (first training chunk): {train_dataset[0]}\")\n",
    "print(f\"Example data point shape: {train_dataset[0].shape}\")"
   ]
  },
  {
   "cell_type": "markdown",
   "metadata": {
    "id": "V2ud-CC8Sme_"
   },
   "source": [
    "# Setting up data collator"
   ]
  },
  {
   "cell_type": "code",
   "execution_count": 18,
   "metadata": {
    "id": "zy31xvtySjww"
   },
   "outputs": [],
   "source": [
    "data_collator = DataCollatorForLanguageModeling(tokenizer=tokenizer, mlm=False)"
   ]
  },
  {
   "cell_type": "markdown",
   "metadata": {
    "id": "ZGwavZ_Uz_g3"
   },
   "source": [
    "## Defining training parameters"
   ]
  },
  {
   "cell_type": "code",
   "execution_count": 19,
   "metadata": {
    "id": "ExQQGLpfSrNu"
   },
   "outputs": [],
   "source": [
    "training_args = TrainingArguments(\n",
    "    output_dir=\"./results\",\n",
    "    num_train_epochs=15,\n",
    "    per_device_train_batch_size=8,\n",
    "    per_device_eval_batch_size=8,\n",
    "    learning_rate=5e-5,\n",
    "    weight_decay=0.01,\n",
    "    eval_strategy=\"epoch\",\n",
    "    save_strategy=\"epoch\",\n",
    "    logging_dir=\"./logs\",\n",
    "    logging_steps=10\n",
    "\n",
    ")"
   ]
  },
  {
   "cell_type": "markdown",
   "metadata": {
    "id": "Ix37STaj0THY"
   },
   "source": [
    "## Initializing the model"
   ]
  },
  {
   "cell_type": "markdown",
   "metadata": {
    "id": "x88BWNK625d7"
   },
   "source": [
    "## For this part wandb api key is required"
   ]
  },
  {
   "cell_type": "code",
   "execution_count": 20,
   "metadata": {
    "colab": {
     "base_uri": "https://localhost:8080/",
     "height": 878
    },
    "id": "dnGYXmjqV-N6",
    "outputId": "7518d757-490a-4480-cd83-c5d9860eff9f"
   },
   "outputs": [
    {
     "name": "stderr",
     "output_type": "stream",
     "text": [
      "\u001b[34m\u001b[1mwandb\u001b[0m: \u001b[33mWARNING\u001b[0m The `run_name` is currently set to the same value as `TrainingArguments.output_dir`. If this was not intended, please specify a different run name by setting the `TrainingArguments.run_name` parameter.\n"
     ]
    },
    {
     "data": {
      "application/javascript": [
       "\n",
       "        window._wandbApiKey = new Promise((resolve, reject) => {\n",
       "            function loadScript(url) {\n",
       "            return new Promise(function(resolve, reject) {\n",
       "                let newScript = document.createElement(\"script\");\n",
       "                newScript.onerror = reject;\n",
       "                newScript.onload = resolve;\n",
       "                document.body.appendChild(newScript);\n",
       "                newScript.src = url;\n",
       "            });\n",
       "            }\n",
       "            loadScript(\"https://cdn.jsdelivr.net/npm/postmate/build/postmate.min.js\").then(() => {\n",
       "            const iframe = document.createElement('iframe')\n",
       "            iframe.style.cssText = \"width:0;height:0;border:none\"\n",
       "            document.body.appendChild(iframe)\n",
       "            const handshake = new Postmate({\n",
       "                container: iframe,\n",
       "                url: 'https://wandb.ai/authorize'\n",
       "            });\n",
       "            const timeout = setTimeout(() => reject(\"Couldn't auto authenticate\"), 5000)\n",
       "            handshake.then(function(child) {\n",
       "                child.on('authorize', data => {\n",
       "                    clearTimeout(timeout)\n",
       "                    resolve(data)\n",
       "                });\n",
       "            });\n",
       "            })\n",
       "        });\n",
       "    "
      ],
      "text/plain": [
       "<IPython.core.display.Javascript object>"
      ]
     },
     "metadata": {},
     "output_type": "display_data"
    },
    {
     "name": "stderr",
     "output_type": "stream",
     "text": [
      "\u001b[34m\u001b[1mwandb\u001b[0m: Logging into wandb.ai. (Learn how to deploy a W&B server locally: https://wandb.me/wandb-server)\n",
      "\u001b[34m\u001b[1mwandb\u001b[0m: You can find your API key in your browser here: https://wandb.ai/authorize?ref=models\n",
      "wandb: Paste an API key from your profile and hit enter:"
     ]
    },
    {
     "name": "stdout",
     "output_type": "stream",
     "text": [
      " ··········\n"
     ]
    },
    {
     "name": "stderr",
     "output_type": "stream",
     "text": [
      "\u001b[34m\u001b[1mwandb\u001b[0m: \u001b[33mWARNING\u001b[0m If you're specifying your api key in code, ensure this code is not shared publicly.\n",
      "\u001b[34m\u001b[1mwandb\u001b[0m: \u001b[33mWARNING\u001b[0m Consider setting the WANDB_API_KEY environment variable, or running `wandb login` from the command line.\n",
      "\u001b[34m\u001b[1mwandb\u001b[0m: No netrc file found, creating one.\n",
      "\u001b[34m\u001b[1mwandb\u001b[0m: Appending key for api.wandb.ai to your netrc file: /root/.netrc\n",
      "\u001b[34m\u001b[1mwandb\u001b[0m: Currently logged in as: \u001b[33mgodfathertheme1\u001b[0m (\u001b[33mgodfathertheme1-internshala\u001b[0m) to \u001b[32mhttps://api.wandb.ai\u001b[0m. Use \u001b[1m`wandb login --relogin`\u001b[0m to force relogin\n"
     ]
    },
    {
     "data": {
      "text/html": [
       "Tracking run with wandb version 0.21.0"
      ],
      "text/plain": [
       "<IPython.core.display.HTML object>"
      ]
     },
     "metadata": {},
     "output_type": "display_data"
    },
    {
     "data": {
      "text/html": [
       "Run data is saved locally in <code>/content/wandb/run-20250712_085907-kgvr7rhm</code>"
      ],
      "text/plain": [
       "<IPython.core.display.HTML object>"
      ]
     },
     "metadata": {},
     "output_type": "display_data"
    },
    {
     "data": {
      "text/html": [
       "Syncing run <strong><a href='https://wandb.ai/godfathertheme1-internshala/huggingface/runs/kgvr7rhm' target=\"_blank\">./results</a></strong> to <a href='https://wandb.ai/godfathertheme1-internshala/huggingface' target=\"_blank\">Weights & Biases</a> (<a href='https://wandb.me/developer-guide' target=\"_blank\">docs</a>)<br>"
      ],
      "text/plain": [
       "<IPython.core.display.HTML object>"
      ]
     },
     "metadata": {},
     "output_type": "display_data"
    },
    {
     "data": {
      "text/html": [
       " View project at <a href='https://wandb.ai/godfathertheme1-internshala/huggingface' target=\"_blank\">https://wandb.ai/godfathertheme1-internshala/huggingface</a>"
      ],
      "text/plain": [
       "<IPython.core.display.HTML object>"
      ]
     },
     "metadata": {},
     "output_type": "display_data"
    },
    {
     "data": {
      "text/html": [
       " View run at <a href='https://wandb.ai/godfathertheme1-internshala/huggingface/runs/kgvr7rhm' target=\"_blank\">https://wandb.ai/godfathertheme1-internshala/huggingface/runs/kgvr7rhm</a>"
      ],
      "text/plain": [
       "<IPython.core.display.HTML object>"
      ]
     },
     "metadata": {},
     "output_type": "display_data"
    },
    {
     "name": "stderr",
     "output_type": "stream",
     "text": [
      "`loss_type=None` was set in the config but it is unrecognised.Using the default loss: `ForCausalLMLoss`.\n"
     ]
    },
    {
     "data": {
      "text/html": [
       "\n",
       "    <div>\n",
       "      \n",
       "      <progress value='5910' max='5910' style='width:300px; height:20px; vertical-align: middle;'></progress>\n",
       "      [5910/5910 24:45, Epoch 15/15]\n",
       "    </div>\n",
       "    <table border=\"1\" class=\"dataframe\">\n",
       "  <thead>\n",
       " <tr style=\"text-align: left;\">\n",
       "      <th>Epoch</th>\n",
       "      <th>Training Loss</th>\n",
       "      <th>Validation Loss</th>\n",
       "    </tr>\n",
       "  </thead>\n",
       "  <tbody>\n",
       "    <tr>\n",
       "      <td>1</td>\n",
       "      <td>2.818900</td>\n",
       "      <td>2.764333</td>\n",
       "    </tr>\n",
       "    <tr>\n",
       "      <td>2</td>\n",
       "      <td>2.609000</td>\n",
       "      <td>2.550816</td>\n",
       "    </tr>\n",
       "    <tr>\n",
       "      <td>3</td>\n",
       "      <td>2.280800</td>\n",
       "      <td>2.423050</td>\n",
       "    </tr>\n",
       "    <tr>\n",
       "      <td>4</td>\n",
       "      <td>2.045800</td>\n",
       "      <td>2.338911</td>\n",
       "    </tr>\n",
       "    <tr>\n",
       "      <td>5</td>\n",
       "      <td>2.021000</td>\n",
       "      <td>2.299715</td>\n",
       "    </tr>\n",
       "    <tr>\n",
       "      <td>6</td>\n",
       "      <td>1.954700</td>\n",
       "      <td>2.251405</td>\n",
       "    </tr>\n",
       "    <tr>\n",
       "      <td>7</td>\n",
       "      <td>1.716100</td>\n",
       "      <td>2.227247</td>\n",
       "    </tr>\n",
       "    <tr>\n",
       "      <td>8</td>\n",
       "      <td>1.830700</td>\n",
       "      <td>2.199719</td>\n",
       "    </tr>\n",
       "    <tr>\n",
       "      <td>9</td>\n",
       "      <td>1.698800</td>\n",
       "      <td>2.207051</td>\n",
       "    </tr>\n",
       "    <tr>\n",
       "      <td>10</td>\n",
       "      <td>1.685400</td>\n",
       "      <td>2.196306</td>\n",
       "    </tr>\n",
       "    <tr>\n",
       "      <td>11</td>\n",
       "      <td>1.712000</td>\n",
       "      <td>2.184581</td>\n",
       "    </tr>\n",
       "    <tr>\n",
       "      <td>12</td>\n",
       "      <td>1.611600</td>\n",
       "      <td>2.200593</td>\n",
       "    </tr>\n",
       "    <tr>\n",
       "      <td>13</td>\n",
       "      <td>1.541500</td>\n",
       "      <td>2.189204</td>\n",
       "    </tr>\n",
       "    <tr>\n",
       "      <td>14</td>\n",
       "      <td>1.524900</td>\n",
       "      <td>2.191078</td>\n",
       "    </tr>\n",
       "    <tr>\n",
       "      <td>15</td>\n",
       "      <td>1.678300</td>\n",
       "      <td>2.196290</td>\n",
       "    </tr>\n",
       "  </tbody>\n",
       "</table><p>"
      ],
      "text/plain": [
       "<IPython.core.display.HTML object>"
      ]
     },
     "metadata": {},
     "output_type": "display_data"
    },
    {
     "data": {
      "text/plain": [
       "TrainOutput(global_step=5910, training_loss=1.9569660845141725, metrics={'train_runtime': 1580.6113, 'train_samples_per_second': 29.903, 'train_steps_per_second': 3.739, 'total_flos': 1543773864591360.0, 'train_loss': 1.9569660845141725, 'epoch': 15.0})"
      ]
     },
     "execution_count": 20,
     "metadata": {},
     "output_type": "execute_result"
    }
   ],
   "source": [
    "trainer = Trainer(\n",
    "    model=model,\n",
    "    args=training_args,\n",
    "    train_dataset=train_dataset,\n",
    "    eval_dataset=val_dataset,\n",
    "    data_collator=data_collator,\n",
    ")\n",
    "\n",
    "trainer.train()"
   ]
  },
  {
   "cell_type": "markdown",
   "metadata": {
    "id": "A_aLMerh0ZCp"
   },
   "source": [
    "## Evaluate the model on the validation set"
   ]
  },
  {
   "cell_type": "code",
   "execution_count": 21,
   "metadata": {
    "colab": {
     "base_uri": "https://localhost:8080/",
     "height": 54
    },
    "id": "h4qAZI4VfanI",
    "outputId": "58656e20-17c4-4d4b-8d80-557128621f26"
   },
   "outputs": [
    {
     "data": {
      "text/html": [
       "\n",
       "    <div>\n",
       "      \n",
       "      <progress value='64' max='64' style='width:300px; height:20px; vertical-align: middle;'></progress>\n",
       "      [64/64 00:03]\n",
       "    </div>\n",
       "    "
      ],
      "text/plain": [
       "<IPython.core.display.HTML object>"
      ]
     },
     "metadata": {},
     "output_type": "display_data"
    },
    {
     "name": "stdout",
     "output_type": "stream",
     "text": [
      "Perplexity: 8.99\n"
     ]
    }
   ],
   "source": [
    "\n",
    "import math\n",
    "eval_results = trainer.evaluate()\n",
    "\n",
    "print(f\"Perplexity: {math.exp(eval_results['eval_loss']):.2f}\")"
   ]
  },
  {
   "cell_type": "markdown",
   "metadata": {
    "id": "RrGlh8fl1da5"
   },
   "source": [
    "## Evaluate the model on test set"
   ]
  },
  {
   "cell_type": "code",
   "execution_count": 22,
   "metadata": {
    "colab": {
     "base_uri": "https://localhost:8080/",
     "height": 72
    },
    "id": "Ngtb0rNJ05tn",
    "outputId": "b6e7ff6f-890c-4680-8e9f-043c3119ef89"
   },
   "outputs": [
    {
     "data": {
      "text/html": [
       "\n",
       "    <div>\n",
       "      \n",
       "      <progress value='133' max='64' style='width:300px; height:20px; vertical-align: middle;'></progress>\n",
       "      [64/64 00:07]\n",
       "    </div>\n",
       "    "
      ],
      "text/plain": [
       "<IPython.core.display.HTML object>"
      ]
     },
     "metadata": {},
     "output_type": "display_data"
    },
    {
     "name": "stdout",
     "output_type": "stream",
     "text": [
      "Test Loss: 2.2963\n",
      "Test Perplexity: 9.94\n"
     ]
    }
   ],
   "source": [
    "test_results = trainer.evaluate(test_dataset)\n",
    "\n",
    "print(f\"Test Loss: {test_results['eval_loss']:.4f}\")\n",
    "print(f\"Test Perplexity: {math.exp(test_results['eval_loss']):.2f}\")"
   ]
  },
  {
   "cell_type": "markdown",
   "metadata": {
    "id": "ulkCrqXl0d5n"
   },
   "source": [
    "## Saving the trained model"
   ]
  },
  {
   "cell_type": "code",
   "execution_count": 23,
   "metadata": {
    "colab": {
     "base_uri": "https://localhost:8080/"
    },
    "id": "xOxgrl4CgCBX",
    "outputId": "e4beb2d1-c0c3-44e2-f393-4c6eb6688c1a"
   },
   "outputs": [
    {
     "name": "stdout",
     "output_type": "stream",
     "text": [
      "Fine-tuned model saved to ./tuned_distilgpt2\n"
     ]
    }
   ],
   "source": [
    "save_directory = \"./tuned_distilgpt2\"\n",
    "trainer.save_model(save_directory)\n",
    "\n",
    "print(f\"Fine-tuned model saved to {save_directory}\")"
   ]
  }
 ],
 "metadata": {
  "accelerator": "GPU",
  "colab": {
   "gpuType": "T4",
   "provenance": []
  },
  "kernelspec": {
   "display_name": "Python 3",
   "name": "python3"
  },
  "language_info": {
   "name": "python"
  }
 },
 "nbformat": 4,
 "nbformat_minor": 0
}
